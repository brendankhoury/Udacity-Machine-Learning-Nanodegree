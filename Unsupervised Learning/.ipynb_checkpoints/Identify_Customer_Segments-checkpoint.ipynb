{
 "cells": [
  {
   "cell_type": "markdown",
   "metadata": {},
   "source": [
    "# Project: Identify Customer Segments\n",
    "\n",
    "In this project, you will apply unsupervised learning techniques to identify segments of the population that form the core customer base for a mail-order sales company in Germany. These segments can then be used to direct marketing campaigns towards audiences that will have the highest expected rate of returns. The data that you will use has been provided by our partners at Bertelsmann Arvato Analytics, and represents a real-life data science task.\n",
    "\n",
    "This notebook will help you complete this task by providing a framework within which you will perform your analysis steps. In each step of the project, you will see some text describing the subtask that you will perform, followed by one or more code cells for you to complete your work. **Feel free to add additional code and markdown cells as you go along so that you can explore everything in precise chunks.** The code cells provided in the base template will outline only the major tasks, and will usually not be enough to cover all of the minor tasks that comprise it.\n",
    "\n",
    "It should be noted that while there will be precise guidelines on how you should handle certain tasks in the project, there will also be places where an exact specification is not provided. **There will be times in the project where you will need to make and justify your own decisions on how to treat the data.** These are places where there may not be only one way to handle the data. In real-life tasks, there may be many valid ways to approach an analysis task. One of the most important things you can do is clearly document your approach so that other scientists can understand the decisions you've made.\n",
    "\n",
    "At the end of most sections, there will be a Markdown cell labeled **Discussion**. In these cells, you will report your findings for the completed section, as well as document the decisions that you made in your approach to each subtask. **Your project will be evaluated not just on the code used to complete the tasks outlined, but also your communication about your observations and conclusions at each stage.**"
   ]
  },
  {
   "cell_type": "code",
   "execution_count": 2,
   "metadata": {},
   "outputs": [
    {
     "data": {
      "text/plain": [
       "'\\nImport note: The classroom currently uses sklearn version 0.19.\\nIf you need to use an imputer, it is available in sklearn.preprocessing.Imputer,\\ninstead of sklearn.impute as in newer versions of sklearn.\\n'"
      ]
     },
     "execution_count": 2,
     "metadata": {},
     "output_type": "execute_result"
    }
   ],
   "source": [
    "# import libraries here; add more as necessary\n",
    "import numpy as np\n",
    "import pandas as pd\n",
    "import matplotlib.pyplot as plt\n",
    "import seaborn as sns\n",
    "\n",
    "# magic word for producing visualizations in notebook\n",
    "%matplotlib inline\n",
    "\n",
    "'''\n",
    "Import note: The classroom currently uses sklearn version 0.19.\n",
    "If you need to use an imputer, it is available in sklearn.preprocessing.Imputer,\n",
    "instead of sklearn.impute as in newer versions of sklearn.\n",
    "'''"
   ]
  },
  {
   "cell_type": "markdown",
   "metadata": {},
   "source": [
    "### Step 0: Load the Data\n",
    "\n",
    "There are four files associated with this project (not including this one):\n",
    "\n",
    "- `Udacity_AZDIAS_Subset.csv`: Demographics data for the general population of Germany; 891211 persons (rows) x 85 features (columns).\n",
    "- `Udacity_CUSTOMERS_Subset.csv`: Demographics data for customers of a mail-order company; 191652 persons (rows) x 85 features (columns).\n",
    "- `Data_Dictionary.md`: Detailed information file about the features in the provided datasets.\n",
    "- `AZDIAS_Feature_Summary.csv`: Summary of feature attributes for demographics data; 85 features (rows) x 4 columns\n",
    "\n",
    "Each row of the demographics files represents a single person, but also includes information outside of individuals, including information about their household, building, and neighborhood. You will use this information to cluster the general population into groups with similar demographic properties. Then, you will see how the people in the customers dataset fit into those created clusters. The hope here is that certain clusters are over-represented in the customers data, as compared to the general population; those over-represented clusters will be assumed to be part of the core userbase. This information can then be used for further applications, such as targeting for a marketing campaign.\n",
    "\n",
    "To start off with, load in the demographics data for the general population into a pandas DataFrame, and do the same for the feature attributes summary. Note for all of the `.csv` data files in this project: they're semicolon (`;`) delimited, so you'll need an additional argument in your [`read_csv()`](https://pandas.pydata.org/pandas-docs/stable/generated/pandas.read_csv.html) call to read in the data properly. Also, considering the size of the main dataset, it may take some time for it to load completely.\n",
    "\n",
    "Once the dataset is loaded, it's recommended that you take a little bit of time just browsing the general structure of the dataset and feature summary file. You'll be getting deep into the innards of the cleaning in the first major step of the project, so gaining some general familiarity can help you get your bearings."
   ]
  },
  {
   "cell_type": "code",
   "execution_count": 3,
   "metadata": {},
   "outputs": [],
   "source": [
    "# Load in the general demographics data.\n",
    "azdias = pd.read_csv(\"Udacity_AZDIAS_Subset.csv\",sep=\";\")\n",
    "\n",
    "# Load in the feature summary file.\n",
    "feat_info = pd.read_csv(\"AZDIAS_Feature_Summary.csv\",sep=\";\")"
   ]
  },
  {
   "cell_type": "code",
   "execution_count": 4,
   "metadata": {},
   "outputs": [
    {
     "name": "stdout",
     "output_type": "stream",
     "text": [
      "(891221, 85)\n"
     ]
    }
   ],
   "source": [
    "# Check the structure of the data after it's loaded (e.g. print the number of\n",
    "# rows and columns, print the first few rows).\n",
    "print(azdias.shape)"
   ]
  },
  {
   "cell_type": "code",
   "execution_count": 5,
   "metadata": {},
   "outputs": [
    {
     "name": "stdout",
     "output_type": "stream",
     "text": [
      "   AGER_TYP  ALTERSKATEGORIE_GROB  ANREDE_KZ  CJT_GESAMTTYP  \\\n",
      "0        -1                     2          1            2.0   \n",
      "1        -1                     1          2            5.0   \n",
      "2        -1                     3          2            3.0   \n",
      "3         2                     4          2            2.0   \n",
      "4        -1                     3          1            5.0   \n",
      "\n",
      "   FINANZ_MINIMALIST  FINANZ_SPARER  FINANZ_VORSORGER  FINANZ_ANLEGER  \\\n",
      "0                  3              4                 3               5   \n",
      "1                  1              5                 2               5   \n",
      "2                  1              4                 1               2   \n",
      "3                  4              2                 5               2   \n",
      "4                  4              3                 4               1   \n",
      "\n",
      "   FINANZ_UNAUFFAELLIGER  FINANZ_HAUSBAUER    ...     PLZ8_ANTG1  PLZ8_ANTG2  \\\n",
      "0                      5                 3    ...            NaN         NaN   \n",
      "1                      4                 5    ...            2.0         3.0   \n",
      "2                      3                 5    ...            3.0         3.0   \n",
      "3                      1                 2    ...            2.0         2.0   \n",
      "4                      3                 2    ...            2.0         4.0   \n",
      "\n",
      "   PLZ8_ANTG3  PLZ8_ANTG4  PLZ8_BAUMAX  PLZ8_HHZ  PLZ8_GBZ  ARBEIT  \\\n",
      "0         NaN         NaN          NaN       NaN       NaN     NaN   \n",
      "1         2.0         1.0          1.0       5.0       4.0     3.0   \n",
      "2         1.0         0.0          1.0       4.0       4.0     3.0   \n",
      "3         2.0         0.0          1.0       3.0       4.0     2.0   \n",
      "4         2.0         1.0          2.0       3.0       3.0     4.0   \n",
      "\n",
      "   ORTSGR_KLS9  RELAT_AB  \n",
      "0          NaN       NaN  \n",
      "1          5.0       4.0  \n",
      "2          5.0       2.0  \n",
      "3          3.0       3.0  \n",
      "4          6.0       5.0  \n",
      "\n",
      "[5 rows x 85 columns]\n"
     ]
    }
   ],
   "source": [
    "print(azdias.head())"
   ]
  },
  {
   "cell_type": "code",
   "execution_count": 6,
   "metadata": {},
   "outputs": [
    {
     "name": "stdout",
     "output_type": "stream",
     "text": [
      "(85, 4)\n"
     ]
    }
   ],
   "source": [
    "print(feat_info.shape)"
   ]
  },
  {
   "cell_type": "code",
   "execution_count": 7,
   "metadata": {},
   "outputs": [
    {
     "name": "stdout",
     "output_type": "stream",
     "text": [
      "                attribute information_level         type missing_or_unknown\n",
      "0                AGER_TYP            person  categorical             [-1,0]\n",
      "1    ALTERSKATEGORIE_GROB            person      ordinal           [-1,0,9]\n",
      "2               ANREDE_KZ            person  categorical             [-1,0]\n",
      "3           CJT_GESAMTTYP            person  categorical                [0]\n",
      "4       FINANZ_MINIMALIST            person      ordinal               [-1]\n",
      "5           FINANZ_SPARER            person      ordinal               [-1]\n",
      "6        FINANZ_VORSORGER            person      ordinal               [-1]\n",
      "7          FINANZ_ANLEGER            person      ordinal               [-1]\n",
      "8   FINANZ_UNAUFFAELLIGER            person      ordinal               [-1]\n",
      "9        FINANZ_HAUSBAUER            person      ordinal               [-1]\n",
      "10              FINANZTYP            person  categorical               [-1]\n",
      "11            GEBURTSJAHR            person      numeric                [0]\n",
      "12        GFK_URLAUBERTYP            person  categorical                 []\n",
      "13       GREEN_AVANTGARDE            person  categorical                 []\n",
      "14             HEALTH_TYP            person      ordinal             [-1,0]\n",
      "15    LP_LEBENSPHASE_FEIN            person        mixed                [0]\n",
      "16    LP_LEBENSPHASE_GROB            person        mixed                [0]\n",
      "17        LP_FAMILIE_FEIN            person  categorical                [0]\n",
      "18        LP_FAMILIE_GROB            person  categorical                [0]\n",
      "19         LP_STATUS_FEIN            person  categorical                [0]\n",
      "20         LP_STATUS_GROB            person  categorical                [0]\n",
      "21       NATIONALITAET_KZ            person  categorical             [-1,0]\n",
      "22  PRAEGENDE_JUGENDJAHRE            person        mixed             [-1,0]\n",
      "23         RETOURTYP_BK_S            person      ordinal                [0]\n",
      "24              SEMIO_SOZ            person      ordinal             [-1,9]\n",
      "25              SEMIO_FAM            person      ordinal             [-1,9]\n",
      "26              SEMIO_REL            person      ordinal             [-1,9]\n",
      "27              SEMIO_MAT            person      ordinal             [-1,9]\n",
      "28             SEMIO_VERT            person      ordinal             [-1,9]\n",
      "29             SEMIO_LUST            person      ordinal             [-1,9]\n",
      "..                    ...               ...          ...                ...\n",
      "55            OST_WEST_KZ          building  categorical               [-1]\n",
      "56               WOHNLAGE          building        mixed               [-1]\n",
      "57        CAMEO_DEUG_2015     microcell_rr4  categorical             [-1,X]\n",
      "58         CAMEO_DEU_2015     microcell_rr4  categorical               [XX]\n",
      "59        CAMEO_INTL_2015     microcell_rr4        mixed            [-1,XX]\n",
      "60            KBA05_ANTG1     microcell_rr3      ordinal               [-1]\n",
      "61            KBA05_ANTG2     microcell_rr3      ordinal               [-1]\n",
      "62            KBA05_ANTG3     microcell_rr3      ordinal               [-1]\n",
      "63            KBA05_ANTG4     microcell_rr3      ordinal               [-1]\n",
      "64           KBA05_BAUMAX     microcell_rr3        mixed             [-1,0]\n",
      "65              KBA05_GBZ     microcell_rr3      ordinal             [-1,0]\n",
      "66               BALLRAUM          postcode      ordinal               [-1]\n",
      "67               EWDICHTE          postcode      ordinal               [-1]\n",
      "68             INNENSTADT          postcode      ordinal               [-1]\n",
      "69     GEBAEUDETYP_RASTER        region_rr1      ordinal                 []\n",
      "70                    KKK        region_rr1      ordinal             [-1,0]\n",
      "71             MOBI_REGIO        region_rr1      ordinal                 []\n",
      "72      ONLINE_AFFINITAET        region_rr1      ordinal                 []\n",
      "73               REGIOTYP        region_rr1      ordinal             [-1,0]\n",
      "74       KBA13_ANZAHL_PKW    macrocell_plz8      numeric                 []\n",
      "75             PLZ8_ANTG1    macrocell_plz8      ordinal               [-1]\n",
      "76             PLZ8_ANTG2    macrocell_plz8      ordinal               [-1]\n",
      "77             PLZ8_ANTG3    macrocell_plz8      ordinal               [-1]\n",
      "78             PLZ8_ANTG4    macrocell_plz8      ordinal               [-1]\n",
      "79            PLZ8_BAUMAX    macrocell_plz8        mixed             [-1,0]\n",
      "80               PLZ8_HHZ    macrocell_plz8      ordinal               [-1]\n",
      "81               PLZ8_GBZ    macrocell_plz8      ordinal               [-1]\n",
      "82                 ARBEIT         community      ordinal             [-1,9]\n",
      "83            ORTSGR_KLS9         community      ordinal             [-1,0]\n",
      "84               RELAT_AB         community      ordinal             [-1,9]\n",
      "\n",
      "[85 rows x 4 columns]\n"
     ]
    }
   ],
   "source": [
    "print(feat_info)"
   ]
  },
  {
   "cell_type": "markdown",
   "metadata": {},
   "source": [
    "> **Tip**: Add additional cells to keep everything in reasonably-sized chunks! Keyboard shortcut `esc --> a` (press escape to enter command mode, then press the 'A' key) adds a new cell before the active cell, and `esc --> b` adds a new cell after the active cell. If you need to convert an active cell to a markdown cell, use `esc --> m` and to convert to a code cell, use `esc --> y`. \n",
    "\n",
    "## Step 1: Preprocessing\n",
    "\n",
    "### Step 1.1: Assess Missing Data\n",
    "\n",
    "The feature summary file contains a summary of properties for each demographics data column. You will use this file to help you make cleaning decisions during this stage of the project. First of all, you should assess the demographics data in terms of missing data. Pay attention to the following points as you perform your analysis, and take notes on what you observe. Make sure that you fill in the **Discussion** cell with your findings and decisions at the end of each step that has one!\n",
    "\n",
    "#### Step 1.1.1: Convert Missing Value Codes to NaNs\n",
    "The fourth column of the feature attributes summary (loaded in above as `feat_info`) documents the codes from the data dictionary that indicate missing or unknown data. While the file encodes this as a list (e.g. `[-1,0]`), this will get read in as a string object. You'll need to do a little bit of parsing to make use of it to identify and clean the data. Convert data that matches a 'missing' or 'unknown' value code into a numpy NaN value. You might want to see how much data takes on a 'missing' or 'unknown' code, and how much data is naturally missing, as a point of interest.\n",
    "\n",
    "**As one more reminder, you are encouraged to add additional cells to break up your analysis into manageable chunks.**"
   ]
  },
  {
   "cell_type": "code",
   "execution_count": 8,
   "metadata": {},
   "outputs": [
    {
     "name": "stderr",
     "output_type": "stream",
     "text": [
      "/opt/conda/lib/python3.6/site-packages/ipykernel_launcher.py:15: SettingWithCopyWarning: \n",
      "A value is trying to be set on a copy of a slice from a DataFrame\n",
      "\n",
      "See the caveats in the documentation: http://pandas.pydata.org/pandas-docs/stable/indexing.html#indexing-view-versus-copy\n",
      "  from ipykernel import kernelapp as app\n"
     ]
    }
   ],
   "source": [
    "# Identify missing or unknown data values and convert them to NaNs.\n",
    "# Identify missing or unknown data values and convert them to NaNs.\n",
    "for key,missing in zip(feat_info[\"attribute\"],feat_info[\"missing_or_unknown\"]):\n",
    "    if len(missing)==2:\n",
    "        continue\n",
    "    missing = missing[1:-1].split(\",\")\n",
    "    if type(azdias[key][0]) == np.int64:\n",
    "        missing = [int(i) for i in missing]\n",
    "    elif type(azdias[key][0]) == np.float64:\n",
    "        missing = [float(i) for i in missing]\n",
    "\n",
    "    converter = azdias[key] == missing[0]\n",
    "    for i in range(1,len(missing)):\n",
    "        converter = converter | (azdias[key] == missing[i])\n",
    "    azdias[key][converter] = np.NaN"
   ]
  },
  {
   "cell_type": "code",
   "execution_count": 9,
   "metadata": {},
   "outputs": [
    {
     "name": "stdout",
     "output_type": "stream",
     "text": [
      "0          NaN\n",
      "1         14.0\n",
      "2         15.0\n",
      "3          8.0\n",
      "4          8.0\n",
      "5          3.0\n",
      "6         10.0\n",
      "7          8.0\n",
      "8         11.0\n",
      "9         15.0\n",
      "10         3.0\n",
      "11         NaN\n",
      "12         8.0\n",
      "13        15.0\n",
      "14         NaN\n",
      "15         5.0\n",
      "16        14.0\n",
      "17         NaN\n",
      "18        10.0\n",
      "19         9.0\n",
      "20        11.0\n",
      "21        10.0\n",
      "22        14.0\n",
      "23         9.0\n",
      "24         NaN\n",
      "25        14.0\n",
      "26         8.0\n",
      "27        11.0\n",
      "28        10.0\n",
      "29         6.0\n",
      "          ... \n",
      "891191     3.0\n",
      "891192    14.0\n",
      "891193     5.0\n",
      "891194    11.0\n",
      "891195     8.0\n",
      "891196    14.0\n",
      "891197    11.0\n",
      "891198    15.0\n",
      "891199    10.0\n",
      "891200    14.0\n",
      "891201    10.0\n",
      "891202    10.0\n",
      "891203     NaN\n",
      "891204    10.0\n",
      "891205     3.0\n",
      "891206    14.0\n",
      "891207     2.0\n",
      "891208     8.0\n",
      "891209    14.0\n",
      "891210     8.0\n",
      "891211     8.0\n",
      "891212     3.0\n",
      "891213    11.0\n",
      "891214    14.0\n",
      "891215    10.0\n",
      "891216    14.0\n",
      "891217    10.0\n",
      "891218    14.0\n",
      "891219    14.0\n",
      "891220     3.0\n",
      "Name: PRAEGENDE_JUGENDJAHRE, Length: 891221, dtype: float64\n"
     ]
    }
   ],
   "source": [
    "print(azdias[\"PRAEGENDE_JUGENDJAHRE\"])"
   ]
  },
  {
   "cell_type": "markdown",
   "metadata": {},
   "source": [
    "#### Step 1.1.2: Assess Missing Data in Each Column\n",
    "\n",
    "How much missing data is present in each column? There are a few columns that are outliers in terms of the proportion of values that are missing. You will want to use matplotlib's [`hist()`](https://matplotlib.org/api/_as_gen/matplotlib.pyplot.hist.html) function to visualize the distribution of missing value counts to find these columns. Identify and document these columns. While some of these columns might have justifications for keeping or re-encoding the data, for this project you should just remove them from the dataframe. (Feel free to make remarks about these outlier columns in the discussion, however!)\n",
    "\n",
    "For the remaining features, are there any patterns in which columns have, or share, missing data?"
   ]
  },
  {
   "cell_type": "code",
   "execution_count": 10,
   "metadata": {},
   "outputs": [
    {
     "data": {
      "text/plain": [
       "<matplotlib.axes._subplots.AxesSubplot at 0x7f92535943c8>"
      ]
     },
     "execution_count": 10,
     "metadata": {},
     "output_type": "execute_result"
    },
    {
     "data": {
      "image/png": "[encoded data removed]",
      "text/plain": [
       "<matplotlib.figure.Figure at 0x7f927c7f2e80>"
      ]
     },
     "metadata": {
      "needs_background": "light"
     },
     "output_type": "display_data"
    }
   ],
   "source": [
    "# Perform an assessment of how much missing data there is in each column of the\n",
    "# dataset.\n",
    "azdias.isnull().sum().hist()"
   ]
  },
  {
   "cell_type": "code",
   "execution_count": 11,
   "metadata": {},
   "outputs": [
    {
     "data": {
      "text/plain": [
       "<matplotlib.axes._subplots.AxesSubplot at 0x7f9251443dd8>"
      ]
     },
     "execution_count": 11,
     "metadata": {},
     "output_type": "execute_result"
    },
    {
     "data": {
      "image/png": "[encoded data removed]",
      "text/plain": [
       "<matplotlib.figure.Figure at 0x7f9253610b38>"
      ]
     },
     "metadata": {
      "needs_background": "light"
     },
     "output_type": "display_data"
    }
   ],
   "source": [
    "# Investigate patterns in the amount of missing data in each column.\n",
    "# https://knowledge.udacity.com/questions/92587 <- found here, thanks :)\n",
    "# The bar chart shows the percent of the collumns values that are NaNs\n",
    "columns_with_nans = azdias.isnull().sum()[azdias.isnull().sum() > 0]\n",
    "azdias_nan_dictionary = {'sum': columns_with_nans.values, 'percent': np.round(columns_with_nans.values * 100 / azdias.shape[0], 2)}\n",
    "azdias_nan = pd.DataFrame(data=azdias_nan_dictionary, index=columns_with_nans.index)\n",
    "azdias_nan.sort_values(by='percent', ascending=False, inplace=True)\n",
    "azdias_nan.percent.plot.bar(figsize=(18, 8))"
   ]
  },
  {
   "cell_type": "code",
   "execution_count": 12,
   "metadata": {},
   "outputs": [],
   "source": [
    "# Remove the outlier columns from the dataset. (You'll perform other data\n",
    "# engineering tasks such as re-encoding and imputation later.)\n",
    "\n",
    "columns_to_drop = list(azdias.isnull().sum()[azdias.isnull().sum()>200000].index)\n",
    "# print(columns_to_drop)\n",
    "azdias.drop(columns_to_drop, axis='columns',inplace=True)\n",
    "# azdias[\"PRAEGENDE_JUGENDJAHRE\"]\n",
    "# for i in columns_to_drop:\n",
    "#     feat_info.drop(np.where(feat_info[\"attribute\"]==i), axis='rows',inplace=True)"
   ]
  },
  {
   "cell_type": "markdown",
   "metadata": {},
   "source": [
    "#### Discussion 1.1.2: Assess Missing Data in Each Column\n",
    "\n",
    "(Double click this cell and replace this text with your own text, reporting your observations regarding the amount of missing data in each column. Are there any patterns in missing values? Which columns were removed from the dataset?)\n",
    "\n",
    "The majority of the columns have less than 20,000 points of missing data. Looking at both the sum histogram and the bar chart you see that allmost all of the collumns are under 20,000. Therefore it is a good idea to remove the points with over 20,000\n",
    "The columns with more missing values than 20,000 were removed. \n"
   ]
  },
  {
   "cell_type": "markdown",
   "metadata": {},
   "source": [
    "#### Step 1.1.3: Assess Missing Data in Each Row\n",
    "\n",
    "Now, you'll perform a similar assessment for the rows of the dataset. How much data is missing in each row? As with the columns, you should see some groups of points that have a very different numbers of missing values. Divide the data into two subsets: one for data points that are above some threshold for missing values, and a second subset for points below that threshold.\n",
    "\n",
    "In order to know what to do with the outlier rows, we should see if the distribution of data values on columns that are not missing data (or are missing very little data) are similar or different between the two groups. Select at least five of these columns and compare the distribution of values.\n",
    "- You can use seaborn's [`countplot()`](https://seaborn.pydata.org/generated/seaborn.countplot.html) function to create a bar chart of code frequencies and matplotlib's [`subplot()`](https://matplotlib.org/api/_as_gen/matplotlib.pyplot.subplot.html) function to put bar charts for the two subplots side by side.\n",
    "- To reduce repeated code, you might want to write a function that can perform this comparison, taking as one of its arguments a column to be compared.\n",
    "\n",
    "Depending on what you observe in your comparison, this will have implications on how you approach your conclusions later in the analysis. If the distributions of non-missing features look similar between the data with many missing values and the data with few or no missing values, then we could argue that simply dropping those points from the analysis won't present a major issue. On the other hand, if the data with many missing values looks very different from the data with few or no missing values, then we should make a note on those data as special. We'll revisit these data later on. **Either way, you should continue your analysis for now using just the subset of the data with few or no missing values.**"
   ]
  },
  {
   "cell_type": "code",
   "execution_count": 13,
   "metadata": {},
   "outputs": [],
   "source": [
    "# How much data is missing in each row of the dataset?\n",
    "# print(azdias.isnull().head())\n",
    "# print(azdias.head())\n",
    "missing_data_row_count = azdias.isnull().values[:].sum(axis=1)"
   ]
  },
  {
   "cell_type": "code",
   "execution_count": 14,
   "metadata": {},
   "outputs": [
    {
     "data": {
      "image/png": "[encoded data removed]",
      "text/plain": [
       "<matplotlib.figure.Figure at 0x7f92535440f0>"
      ]
     },
     "metadata": {
      "needs_background": "light"
     },
     "output_type": "display_data"
    }
   ],
   "source": [
    "# Write code to divide the data into two subsets based on the number of missing\n",
    "# values in each row.\n",
    "sns.countplot(missing_data_row_count)\n",
    "low_missing_data_idx = missing_data_row_count < 12\n",
    "high_missing_data_idx = missing_data_row_count >= 12"
   ]
  },
  {
   "cell_type": "code",
   "execution_count": 15,
   "metadata": {},
   "outputs": [
    {
     "name": "stderr",
     "output_type": "stream",
     "text": [
      "/opt/conda/lib/python3.6/site-packages/matplotlib/figure.py:418: UserWarning: matplotlib is currently using a non-GUI backend, so cannot show the figure\n",
      "  \"matplotlib is currently using a non-GUI backend, \"\n"
     ]
    },
    {
     "data": {
      "image/png": "[encoded data removed]",
      "text/plain": [
       "<matplotlib.figure.Figure at 0x7f923b6def28>"
      ]
     },
     "metadata": {
      "needs_background": "light"
     },
     "output_type": "display_data"
    },
    {
     "data": {
      "image/png": "[encoded data removed]",
      "text/plain": [
       "<matplotlib.figure.Figure at 0x7f923b5ffbe0>"
      ]
     },
     "metadata": {
      "needs_background": "light"
     },
     "output_type": "display_data"
    },
    {
     "data": {
      "image/png": "[encoded data removed]",
      "text/plain": [
       "<matplotlib.figure.Figure at 0x7f923b626e10>"
      ]
     },
     "metadata": {
      "needs_background": "light"
     },
     "output_type": "display_data"
    },
    {
     "data": {
      "image/png": "[encoded data removed]",
      "text/plain": [
       "<matplotlib.figure.Figure at 0x7f923b4b9400>"
      ]
     },
     "metadata": {
      "needs_background": "light"
     },
     "output_type": "display_data"
    },
    {
     "data": {
      "image/png": "[encoded data removed]",
      "text/plain": [
       "<matplotlib.figure.Figure at 0x7f923b45e6d8>"
      ]
     },
     "metadata": {
      "needs_background": "light"
     },
     "output_type": "display_data"
    }
   ],
   "source": [
    "# Compare the distribution of values for at least five columns where there are\n",
    "# no or few missing values, between the two subsets.\n",
    "col_list=[\"ALTERSKATEGORIE_GROB\",\"ONLINE_AFFINITAET\",\"GFK_URLAUBERTYP\",\"LP_STATUS_FEIN\",\"RETOURTYP_BK_S\"]\n",
    "low_missing_data_5 = azdias[low_missing_data_idx][col_list]\n",
    "high_missing_data_5 = azdias[high_missing_data_idx][col_list]\n",
    "# print(low_missing_data)\n",
    "for i in col_list:  \n",
    "    fig, ax =plt.subplots(1,2)\n",
    "    sns.countplot(x=i,data=low_missing_data_5, ax=ax[0])\n",
    "    sns.countplot(x=i,data=high_missing_data_5, ax=ax[1])\n",
    "    fig.show()\n",
    "    \n",
    "# azdias = azdias[low_missing_data_idx]"
   ]
  },
  {
   "cell_type": "markdown",
   "metadata": {},
   "source": [
    "#### Discussion 1.1.3: Assess Missing Data in Each Row\n",
    "\n",
    "(Double-click this cell and replace this text with your own text, reporting your observations regarding missing data in rows. Are the data with lots of missing values are qualitatively different from data with few or no missing values?)\n",
    "\n",
    "In the rows with more missing values, the distribution of values is qualitatively different. While the different y axis is to be expected (there are less rows with lots of missing values) the apearence of the graph would still be the same if the distribution was the same. It is not, therefore the data in the rows with missing values are different."
   ]
  },
  {
   "cell_type": "markdown",
   "metadata": {},
   "source": [
    "### Step 1.2: Select and Re-Encode Features\n",
    "\n",
    "Checking for missing data isn't the only way in which you can prepare a dataset for analysis. Since the unsupervised learning techniques to be used will only work on data that is encoded numerically, you need to make a few encoding changes or additional assumptions to be able to make progress. In addition, while almost all of the values in the dataset are encoded using numbers, not all of them represent numeric values. Check the third column of the feature summary (`feat_info`) for a summary of types of measurement.\n",
    "- For numeric and interval data, these features can be kept without changes.\n",
    "- Most of the variables in the dataset are ordinal in nature. While ordinal values may technically be non-linear in spacing, make the simplifying assumption that the ordinal variables can be treated as being interval in nature (that is, kept without any changes).\n",
    "- Special handling may be necessary for the remaining two variable types: categorical, and 'mixed'.\n",
    "\n",
    "In the first two parts of this sub-step, you will perform an investigation of the categorical and mixed-type features and make a decision on each of them, whether you will keep, drop, or re-encode each. Then, in the last part, you will create a new data frame with only the selected and engineered columns.\n",
    "\n",
    "Data wrangling is often the trickiest part of the data analysis process, and there's a lot of it to be done here. But stick with it: once you're done with this step, you'll be ready to get to the machine learning parts of the project!"
   ]
  },
  {
   "cell_type": "code",
   "execution_count": 16,
   "metadata": {},
   "outputs": [
    {
     "name": "stdout",
     "output_type": "stream",
     "text": [
      "Categorical: 21\n",
      "Ordinal: 49\n",
      "Numeric: 7\n",
      "Mixed: 7\n",
      "Interval: 1\n"
     ]
    }
   ],
   "source": [
    "# How many features are there of each data type?\n",
    "print(\"Categorical:\",(feat_info[\"type\"]==\"categorical\").sum())\n",
    "print(\"Ordinal:\",(feat_info[\"type\"]==\"ordinal\").sum())\n",
    "print(\"Numeric:\",(feat_info[\"type\"]==\"numeric\").sum())\n",
    "print(\"Mixed:\",(feat_info[\"type\"]==\"mixed\").sum())\n",
    "print(\"Interval:\",(feat_info[\"type\"]==\"interval\").sum())"
   ]
  },
  {
   "cell_type": "markdown",
   "metadata": {},
   "source": [
    "#### Step 1.2.1: Re-Encode Categorical Features\n",
    "\n",
    "For categorical data, you would ordinarily need to encode the levels as dummy variables. Depending on the number of categories, perform one of the following:\n",
    "- For binary (two-level) categoricals that take numeric values, you can keep them without needing to do anything.\n",
    "- There is one binary variable that takes on non-numeric values. For this one, you need to re-encode the values as numbers or create a dummy variable.\n",
    "- For multi-level categoricals (three or more values), you can choose to encode the values using multiple dummy variables (e.g. via [OneHotEncoder](http://scikit-learn.org/stable/modules/generated/sklearn.preprocessing.OneHotEncoder.html)), or (to keep things straightforward) just drop them from the analysis. As always, document your choices in the Discussion section."
   ]
  },
  {
   "cell_type": "code",
   "execution_count": 17,
   "metadata": {},
   "outputs": [],
   "source": [
    "x = azdias"
   ]
  },
  {
   "cell_type": "code",
   "execution_count": 18,
   "metadata": {
    "scrolled": true
   },
   "outputs": [
    {
     "name": "stderr",
     "output_type": "stream",
     "text": [
      "/opt/conda/lib/python3.6/site-packages/ipykernel_launcher.py:16: SettingWithCopyWarning: \n",
      "A value is trying to be set on a copy of a slice from a DataFrame\n",
      "\n",
      "See the caveats in the documentation: http://pandas.pydata.org/pandas-docs/stable/indexing.html#indexing-view-versus-copy\n",
      "  app.launch_new_instance()\n",
      "/opt/conda/lib/python3.6/site-packages/ipykernel_launcher.py:17: SettingWithCopyWarning: \n",
      "A value is trying to be set on a copy of a slice from a DataFrame\n",
      "\n",
      "See the caveats in the documentation: http://pandas.pydata.org/pandas-docs/stable/indexing.html#indexing-view-versus-copy\n"
     ]
    }
   ],
   "source": [
    "# # Assess categorical variables: which are binary, which are multi-level, and\n",
    "# # which one needs to be re-encoded?\n",
    "azdias = x\n",
    "categorical_cols = feat_info[feat_info[\"type\"]==\"categorical\"]\n",
    "categorical_cols = set(categorical_cols[\"attribute\"]).intersection(set(azdias.columns))\n",
    "\n",
    "categorical_cols = azdias[list(categorical_cols)]\n",
    "dummie_cols = []\n",
    "for i in categorical_cols:\n",
    "    unique_vals = categorical_cols[i].unique()\n",
    "    unique_vals = [x for x in unique_vals if not pd.isnull(x)]\n",
    "    unique_vals_num = len(unique_vals)\n",
    "    if unique_vals_num>2:\n",
    "        dummie_cols.append(i)\n",
    "    elif unique_vals_num==2 and type(azdias[i]) != np.float64 and type(azdias[i])!= np.int64:\n",
    "        azdias[i][categorical_cols[i]==unique_vals[0]] = 0\n",
    "        azdias[i][categorical_cols[i]==unique_vals[1]] = 1\n"
   ]
  },
  {
   "cell_type": "code",
   "execution_count": 19,
   "metadata": {},
   "outputs": [
    {
     "name": "stdout",
     "output_type": "stream",
     "text": [
      "13\n"
     ]
    }
   ],
   "source": [
    "print(len(dummie_cols))"
   ]
  },
  {
   "cell_type": "code",
   "execution_count": 20,
   "metadata": {},
   "outputs": [],
   "source": [
    "\n",
    "# azdias = x\n",
    "\n",
    "# # Assess categorical variables: which are binary, which are multi-level, and\n",
    "# # which one needs to be re-encoded?\n",
    "# categorical_cols = feat_info[feat_info[\"type\"]==\"categorical\"]\n",
    "# categorical_cols = set(categorical_cols[\"attribute\"]).intersection(set(azdias.columns))\n",
    "\n",
    "# categorical_cols = azdias[list(categorical_cols)]\n",
    "# dummie_cols = []\n",
    "# for i in categorical_cols:\n",
    "#     if len(categorical_cols[i].unique())>2 or type(azdias[i]) != np.float64 or type(azdias[i])!= np.int64:\n",
    "# #         azdias.drop(i,axis=\"columns\",inplace=True)\n",
    "#         dummie_cols.append(i)\n",
    "# print(dummie_cols)\n",
    "\n"
   ]
  },
  {
   "cell_type": "code",
   "execution_count": 21,
   "metadata": {
    "scrolled": false
   },
   "outputs": [],
   "source": [
    "# Re-encode categorical variable(s) to be kept in the analysis.\n",
    "azdias = pd.get_dummies(azdias,columns=dummie_cols)\n"
   ]
  },
  {
   "cell_type": "markdown",
   "metadata": {},
   "source": [
    "#### Discussion 1.2.1: Re-Encode Categorical Features\n",
    "\n",
    "(Double-click this cell and replace this text with your own text, reporting your findings and decisions regarding categorical features. Which ones did you keep, which did you drop, and what engineering steps did you perform?)\n",
    "\n",
    "All of the columns were kept and one-hot encoded. This transformed the dimensionality from 75 to 92. The variables that were one-hot-encoded all had more than 2 unique, categorical values or were non-numeric. They should be able to be used in future analysis."
   ]
  },
  {
   "cell_type": "markdown",
   "metadata": {},
   "source": [
    "#### Step 1.2.2: Engineer Mixed-Type Features\n",
    "\n",
    "There are a handful of features that are marked as \"mixed\" in the feature summary that require special treatment in order to be included in the analysis. There are two in particular that deserve attention; the handling of the rest are up to your own choices:\n",
    "- \"PRAEGENDE_JUGENDJAHRE\" combines information on three dimensions: generation by decade, movement (mainstream vs. avantgarde), and nation (east vs. west). While there aren't enough levels to disentangle east from west, you should create two new variables to capture the other two dimensions: an interval-type variable for decade, and a binary variable for movement.\n",
    "- \"CAMEO_INTL_2015\" combines information on two axes: wealth and life stage. Break up the two-digit codes by their 'tens'-place and 'ones'-place digits into two new ordinal variables (which, for the purposes of this project, is equivalent to just treating them as their raw numeric values).\n",
    "- If you decide to keep or engineer new features around the other mixed-type features, make sure you note your steps in the Discussion section.\n",
    "\n",
    "Be sure to check `Data_Dictionary.md` for the details needed to finish these tasks."
   ]
  },
  {
   "cell_type": "code",
   "execution_count": 22,
   "metadata": {},
   "outputs": [],
   "source": [
    "# x = azdias\n",
    "# Just some reset code so I wouldn't have to rerun everything :) "
   ]
  },
  {
   "cell_type": "code",
   "execution_count": 23,
   "metadata": {},
   "outputs": [],
   "source": [
    "# Investigate \"PRAEGENDE_JUGENDJAHRE\" and engineer two new variables.\n",
    "# azdias = x\n",
    "azdias = pd.DataFrame(azdias[low_missing_data_idx]).reset_index()\n",
    "decade = pd.Series(np.full(azdias.shape[0],np.nan))\n",
    "\n",
    "# print(decade[azdias[\"PRAEGENDE_JUGENDJAHRE\"] < 3])\n",
    "decade[azdias[\"PRAEGENDE_JUGENDJAHRE\"] < 3] = \"40s\"\n",
    "decade[np.logical_and(azdias[\"PRAEGENDE_JUGENDJAHRE\"] > 2,azdias[\"PRAEGENDE_JUGENDJAHRE\"] < 5)] = \"50s\"\n",
    "decade[np.logical_and(azdias[\"PRAEGENDE_JUGENDJAHRE\"] > 4, azdias[\"PRAEGENDE_JUGENDJAHRE\"] < 8)] = \"60s\"\n",
    "decade[np.logical_and(azdias[\"PRAEGENDE_JUGENDJAHRE\"] > 7, azdias[\"PRAEGENDE_JUGENDJAHRE\"] < 10)] = \"70s\"\n",
    "decade[np.logical_and(azdias[\"PRAEGENDE_JUGENDJAHRE\"] > 9,azdias[\"PRAEGENDE_JUGENDJAHRE\"] < 14)] = \"80s\"\n",
    "decade[azdias[\"PRAEGENDE_JUGENDJAHRE\"] > 13] = \"90s\"\n",
    "movement = pd.Series(np.full(len(azdias[\"PRAEGENDE_JUGENDJAHRE\"]),np.nan))\n",
    "movement[np.in1d(azdias[\"PRAEGENDE_JUGENDJAHRE\"], np.array([1,3,5,8,10,12,14]))] = \"Mainstream\"\n",
    "movement[np.logical_not(np.in1d(azdias[\"PRAEGENDE_JUGENDJAHRE\"], np.array([1,3,5,8,10,12,14])))] = \"Avantgarde\"\n",
    "azdias[\"decade\"] = decade\n",
    "azdias[\"movement\"] = movement\n",
    "drop_cols = [\"PRAEGENDE_JUGENDJAHRE\"]\n",
    "azdias = azdias.drop(drop_cols, axis='columns')#,inplace=True\n",
    "one_hot_encode_cols = [\"decade\",\"movement\"]\n",
    "azdias = pd.get_dummies(azdias,columns=one_hot_encode_cols)\n",
    "\n",
    "\n"
   ]
  },
  {
   "cell_type": "markdown",
   "metadata": {},
   "source": [
    "# Investigate \"CAMEO_INTL_2015\" and engineer two new variables.\n",
    "\n",
    "\n"
   ]
  },
  {
   "cell_type": "code",
   "execution_count": 24,
   "metadata": {},
   "outputs": [
    {
     "name": "stdout",
     "output_type": "stream",
     "text": [
      "(781280, 204)\n",
      "(781280, 202)\n"
     ]
    }
   ],
   "source": [
    "life_stage = pd.to_numeric(azdias[\"CAMEO_INTL_2015\"]) % 10\n",
    "wealth = np.round(pd.to_numeric(azdias[\"CAMEO_INTL_2015\"]) / 10)\n",
    "azdias[\"life_stage\"] = life_stage\n",
    "azdias[\"wealth\"] = wealth\n",
    "#dropping GEBAEUDETYP_5.0 because it causes issues with the customer database\n",
    "drop_cols = [\"CAMEO_INTL_2015\",\"GEBAEUDETYP_5.0\"]\n",
    "print(azdias.shape)\n",
    "azdias.drop(drop_cols, axis='columns', inplace=True)\n",
    "print(azdias.shape)\n",
    "one_hot_encode_cols = [\"life_stage\",\"wealth\"]\n",
    "azdias = pd.get_dummies(azdias, columns = one_hot_encode_cols)"
   ]
  },
  {
   "cell_type": "code",
   "execution_count": 25,
   "metadata": {},
   "outputs": [],
   "source": [
    "# PLZ8_BAUMAX\n",
    "# KBA05_BAUMAX\n",
    "# WOHNLAGE\n",
    "one_hot_encode_cols = [\"PLZ8_BAUMAX\",\"WOHNLAGE\"]\n",
    "azdias = pd.get_dummies(azdias, columns = one_hot_encode_cols)"
   ]
  },
  {
   "cell_type": "markdown",
   "metadata": {},
   "source": [
    "#### Discussion 1.2.2: Engineer Mixed-Type Features\n",
    "\n",
    "(Double-click this cell and replace this text with your own text, reporting your findings and decisions regarding mixed-value features. Which ones did you keep, which did you drop, and what engineering steps did you perform?)\n",
    "\n",
    "CAMEO_INTL_2015 and PRAEGENDE_JUGENDJAHRE are kept. The data is split by using the data dictionary's information to split them into columns. The columns are then one-hot encoded and combined into the azdias dataset. \n",
    "LP_LEBENSPHASE_GROB and LP_LEBENSPHASE_FEIN were dropped because their information is similar to what was already in the dataset.\n",
    "\n",
    "PLZ8_BAUMAX WOHNLAGE were all one-hot-encoded and placed into the dataset because their values were easily differentiated by one-hot-encodeing unlike the splitting that I did with CAMEO_INTL_2015 and PRAEGENDE_JUGENDJAHRE.\n",
    "\n",
    "KBA05_BAUMAX was already removed earlier for having too many NaN values."
   ]
  },
  {
   "cell_type": "markdown",
   "metadata": {},
   "source": [
    "#### Step 1.2.3: Complete Feature Selection\n",
    "\n",
    "In order to finish this step up, you need to make sure that your data frame now only has the columns that you want to keep. To summarize, the dataframe should consist of the following:\n",
    "- All numeric, interval, and ordinal type columns from the original dataset.\n",
    "- Binary categorical features (all numerically-encoded).\n",
    "- Engineered features from other multi-level categorical features and mixed features.\n",
    "\n",
    "Make sure that for any new columns that you have engineered, that you've excluded the original columns from the final dataset. Otherwise, their values will interfere with the analysis later on the project. For example, you should not keep \"PRAEGENDE_JUGENDJAHRE\", since its values won't be useful for the algorithm: only the values derived from it in the engineered features you created should be retained. As a reminder, your data should only be from **the subset with few or no missing values**."
   ]
  },
  {
   "cell_type": "code",
   "execution_count": 26,
   "metadata": {},
   "outputs": [],
   "source": [
    "# If there are other re-engineering tasks you need to perform, make sure you\n",
    "# take care of them here. (Dealing with missing data will come in step 2.1.)\n"
   ]
  },
  {
   "cell_type": "code",
   "execution_count": 27,
   "metadata": {},
   "outputs": [],
   "source": [
    "# Do whatever you need to in order to ensure that the dataframe only contains\n",
    "# the columns that should be passed to the algorithm functions.\n",
    "\n",
    "# Everything was already handled above ¯\\_(ツ)_/¯"
   ]
  },
  {
   "cell_type": "markdown",
   "metadata": {},
   "source": [
    "### Step 1.3: Create a Cleaning Function\n",
    "\n",
    "Even though you've finished cleaning up the general population demographics data, it's important to look ahead to the future and realize that you'll need to perform the same cleaning steps on the customer demographics data. In this substep, complete the function below to execute the main feature selection, encoding, and re-engineering steps you performed above. Then, when it comes to looking at the customer data in Step 3, you can just run this function on that DataFrame to get the trimmed dataset in a single step."
   ]
  },
  {
   "cell_type": "code",
   "execution_count": 28,
   "metadata": {},
   "outputs": [],
   "source": [
    "def clean_data(df):\n",
    "    \"\"\"\n",
    "    Perform feature trimming, re-encoding, and engineering for demographics\n",
    "    data\n",
    "    \n",
    "    INPUT: Demographics DataFrame\n",
    "    OUTPUT: Trimmed and cleaned demographics DataFrame\n",
    "    \"\"\"\n",
    "    cleaned_df = df\n",
    "    # Put in code here to execute all main cleaning steps:\n",
    "    # convert missing value codes into NaNs, ...\n",
    "    # Identify missing or unknown data values and convert them to NaNs.\n",
    "    # Identify missing or unknown data values and convert them to NaNs.\n",
    "    for key,missing in zip(feat_info[\"attribute\"],feat_info[\"missing_or_unknown\"]):\n",
    "        if len(missing)==2:\n",
    "            continue\n",
    "        missing = missing[1:-1].split(\",\")\n",
    "        if type(cleaned_df[key][0]) == np.int64:\n",
    "            missing = [int(i) for i in missing]\n",
    "        elif type(cleaned_df[key][0]) == np.float64:\n",
    "            missing = [float(i) for i in missing]\n",
    "\n",
    "        converter = cleaned_df[key] == missing[0]\n",
    "        for i in range(1,len(missing)):\n",
    "            converter = converter | (cleaned_df[key] == missing[i])\n",
    "        cleaned_df[key][converter] = np.NaN\n",
    "\n",
    "    # remove selected columns and rows, ...\n",
    "    \n",
    "#     columns_to_drop = list(cleaned_df.isnull().sum()[cleaned_df.isnull().sum()>200000].index)\n",
    "    #columns to drop defined above\n",
    "    cleaned_df.drop(columns_to_drop, axis='columns',inplace=True)\n",
    "\n",
    "    missing_data_row_count = cleaned_df.isnull().values[:].sum(axis=1)\n",
    "    low_missing_data_idx = missing_data_row_count < 12\n",
    "    cleaned_df = pd.DataFrame(cleaned_df[low_missing_data_idx]).reset_index()\n",
    "\n",
    "    # select, re-encode, and engineer column values.\n",
    "    categorical_cols = feat_info[feat_info[\"type\"]==\"categorical\"]\n",
    "    categorical_cols = set(categorical_cols[\"attribute\"]).intersection(set(cleaned_df.columns))\n",
    "\n",
    "    categorical_cols = cleaned_df[list(categorical_cols)]\n",
    "    dummie_cols = []\n",
    "    for i in categorical_cols:\n",
    "        unique_vals = categorical_cols[i].unique()\n",
    "        unique_vals = [x for x in unique_vals if not pd.isnull(x)]\n",
    "        unique_vals_num = len(unique_vals)\n",
    "        if unique_vals_num > 2:\n",
    "            dummie_cols.append(i)\n",
    "        elif unique_vals_num==2 and type(cleaned_df[i]) != np.float64 and type(cleaned_df[i])!= np.int64:\n",
    "            cleaned_df[i][categorical_cols[i]==unique_vals[0]] = 0\n",
    "            cleaned_df[i][categorical_cols[i]==unique_vals[1]] = 1\n",
    "\n",
    "    \n",
    "    cleaned_df = pd.get_dummies(cleaned_df,columns=dummie_cols)\n",
    "    \n",
    "    \n",
    "    \n",
    "    decade = pd.Series(np.full(len(cleaned_df[\"PRAEGENDE_JUGENDJAHRE\"]),np.nan))\n",
    "    decade[cleaned_df[\"PRAEGENDE_JUGENDJAHRE\"] < 3] = \"40s\"\n",
    "    decade[np.logical_and(cleaned_df[\"PRAEGENDE_JUGENDJAHRE\"] > 2,cleaned_df[\"PRAEGENDE_JUGENDJAHRE\"] < 5)] = \"50s\"\n",
    "    decade[np.logical_and(cleaned_df[\"PRAEGENDE_JUGENDJAHRE\"] > 4, cleaned_df[\"PRAEGENDE_JUGENDJAHRE\"] < 8)] = \"60s\"\n",
    "    decade[np.logical_and(cleaned_df[\"PRAEGENDE_JUGENDJAHRE\"] > 7, cleaned_df[\"PRAEGENDE_JUGENDJAHRE\"] < 10)] = \"70s\"\n",
    "    decade[np.logical_and(cleaned_df[\"PRAEGENDE_JUGENDJAHRE\"] > 9,cleaned_df[\"PRAEGENDE_JUGENDJAHRE\"] < 14)] = \"80s\"\n",
    "    decade[cleaned_df[\"PRAEGENDE_JUGENDJAHRE\"] > 13] = \"90s\"\n",
    "    movement = pd.Series(np.full(len(cleaned_df[\"PRAEGENDE_JUGENDJAHRE\"]),np.nan))\n",
    "    movement[np.in1d(cleaned_df[\"PRAEGENDE_JUGENDJAHRE\"], np.array([1,3,5,8,10,12,14]))] = \"Mainstream\"\n",
    "    movement[np.logical_not(np.in1d(cleaned_df[\"PRAEGENDE_JUGENDJAHRE\"], np.array([1,3,5,8,10,12,14])))] = \"Avantgarde\"\n",
    "    cleaned_df[\"decade\"] = decade\n",
    "    cleaned_df[\"movement\"] = movement\n",
    "    drop_cols = [\"PRAEGENDE_JUGENDJAHRE\"]\n",
    "    cleaned_df.drop(drop_cols, axis='columns',inplace=True)\n",
    "    one_hot_encode_cols = [\"decade\",\"movement\"]\n",
    "    cleaned_df = pd.get_dummies(cleaned_df,columns=one_hot_encode_cols)\n",
    "    \n",
    "    life_stage = pd.to_numeric(cleaned_df[\"CAMEO_INTL_2015\"]) % 10\n",
    "    wealth = np.round(pd.to_numeric(cleaned_df[\"CAMEO_INTL_2015\"]) / 10)\n",
    "    cleaned_df[\"life_stage\"] = life_stage\n",
    "    cleaned_df[\"wealth\"] = wealth\n",
    "    drop_cols = [\"CAMEO_INTL_2015\"] \n",
    "    cleaned_df.drop(drop_cols, axis='columns', inplace=True)\n",
    "    one_hot_encode_cols = [\"life_stage\",\"wealth\"]\n",
    "    cleaned_df = pd.get_dummies(cleaned_df, columns = one_hot_encode_cols)\n",
    "\n",
    "    one_hot_encode_cols = [\"PLZ8_BAUMAX\",\"WOHNLAGE\"]\n",
    "    cleaned_df = pd.get_dummies(cleaned_df, columns = one_hot_encode_cols)\n",
    "    # Return the cleaned dataframe.\n",
    "    \n",
    "    return cleaned_df"
   ]
  },
  {
   "cell_type": "markdown",
   "metadata": {},
   "source": [
    "## Step 2: Feature Transformation\n",
    "\n",
    "### Step 2.1: Apply Feature Scaling\n",
    "\n",
    "Before we apply dimensionality reduction techniques to the data, we need to perform feature scaling so that the principal component vectors are not influenced by the natural differences in scale for features. Starting from this part of the project, you'll want to keep an eye on the [API reference page for sklearn](http://scikit-learn.org/stable/modules/classes.html) to help you navigate to all of the classes and functions that you'll need. In this substep, you'll need to check the following:\n",
    "\n",
    "- sklearn requires that data not have missing values in order for its estimators to work properly. So, before applying the scaler to your data, make sure that you've cleaned the DataFrame of the remaining missing values. This can be as simple as just removing all data points with missing data, or applying an [Imputer](http://scikit-learn.org/stable/modules/generated/sklearn.preprocessing.Imputer.html) to replace all missing values. You might also try a more complicated procedure where you temporarily remove missing values in order to compute the scaling parameters before re-introducing those missing values and applying imputation. Think about how much missing data you have and what possible effects each approach might have on your analysis, and justify your decision in the discussion section below.\n",
    "- For the actual scaling function, a [StandardScaler](http://scikit-learn.org/stable/modules/generated/sklearn.preprocessing.StandardScaler.html) instance is suggested, scaling each feature to mean 0 and standard deviation 1.\n",
    "- For these classes, you can make use of the `.fit_transform()` method to both fit a procedure to the data as well as apply the transformation to the data at the same time. Don't forget to keep the fit sklearn objects handy, since you'll be applying them to the customer demographics data towards the end of the project."
   ]
  },
  {
   "cell_type": "code",
   "execution_count": 29,
   "metadata": {},
   "outputs": [],
   "source": [
    "# azdias=x # reset azdias\n",
    "# x = azdias"
   ]
  },
  {
   "cell_type": "code",
   "execution_count": 30,
   "metadata": {},
   "outputs": [],
   "source": [
    "# If you've not yet cleaned the dataset of all NaN values, then investigate and\n",
    "# do that now.\n",
    "from sklearn.preprocessing import StandardScaler\n",
    "azdias = azdias.dropna(axis=0)"
   ]
  },
  {
   "cell_type": "code",
   "execution_count": 31,
   "metadata": {},
   "outputs": [],
   "source": [
    "# Apply feature scaling to the general population demographics data.\n",
    "scaler = StandardScaler()\n",
    "scaled_azdias = scaler.fit_transform(azdias)"
   ]
  },
  {
   "cell_type": "code",
   "execution_count": 32,
   "metadata": {},
   "outputs": [
    {
     "data": {
      "text/plain": [
       "(632124, 222)"
      ]
     },
     "execution_count": 32,
     "metadata": {},
     "output_type": "execute_result"
    }
   ],
   "source": [
    "scaled_azdias.shape"
   ]
  },
  {
   "cell_type": "markdown",
   "metadata": {},
   "source": [
    "### Discussion 2.1: Apply Feature Scaling\n",
    "\n",
    "(Double-click this cell and replace this text with your own text, reporting your decisions regarding feature scaling.)\n",
    "\n",
    "I decided to drop the rows with NaNs in them because simply replacing the values would skew the data significantly. The resulting data was still ample sized for analyzing later on, I deemed the imputation not necessary. The scaling was done with a standard scaler and fit-transform. "
   ]
  },
  {
   "cell_type": "markdown",
   "metadata": {},
   "source": [
    "### Step 2.2: Perform Dimensionality Reduction\n",
    "\n",
    "On your scaled data, you are now ready to apply dimensionality reduction techniques.\n",
    "\n",
    "- Use sklearn's [PCA](http://scikit-learn.org/stable/modules/generated/sklearn.decomposition.PCA.html) class to apply principal component analysis on the data, thus finding the vectors of maximal variance in the data. To start, you should not set any parameters (so all components are computed) or set a number of components that is at least half the number of features (so there's enough features to see the general trend in variability).\n",
    "- Check out the ratio of variance explained by each principal component as well as the cumulative variance explained. Try plotting the cumulative or sequential values using matplotlib's [`plot()`](https://matplotlib.org/api/_as_gen/matplotlib.pyplot.plot.html) function. Based on what you find, select a value for the number of transformed features you'll retain for the clustering part of the project.\n",
    "- Once you've made a choice for the number of components to keep, make sure you re-fit a PCA instance to perform the decided-on transformation."
   ]
  },
  {
   "cell_type": "code",
   "execution_count": 33,
   "metadata": {},
   "outputs": [],
   "source": [
    "# Apply PCA to the data.\n",
    "from sklearn.decomposition import PCA\n",
    "pca = PCA()\n",
    "X_pca = pca.fit_transform(scaled_azdias)"
   ]
  },
  {
   "cell_type": "code",
   "execution_count": 34,
   "metadata": {
    "scrolled": true
   },
   "outputs": [
    {
     "name": "stdout",
     "output_type": "stream",
     "text": [
      "Cumulative variance with x components\n"
     ]
    },
    {
     "data": {
      "text/plain": [
       "Text(0,0.5,'Cumulative variance explained (%)')"
      ]
     },
     "execution_count": 34,
     "metadata": {},
     "output_type": "execute_result"
    },
    {
     "data": {
      "image/png": "[encoded data removed]",
      "text/plain": [
       "<matplotlib.figure.Figure at 0x7f9237902da0>"
      ]
     },
     "metadata": {
      "needs_background": "light"
     },
     "output_type": "display_data"
    }
   ],
   "source": [
    "# Investigate the variance accounted for by each principal component.\n",
    "num_components = len(pca.explained_variance_ratio_)\n",
    "total_variance = 0\n",
    "cumulative_variance_ratios = []\n",
    "for i in range(num_components):\n",
    "#     print(\"Variance accounted for component \",i,\" \", pca.explained_variance_ratio_[i])\n",
    "    total_variance += pca.explained_variance_ratio_[i]\n",
    "    cumulative_variance_ratios.append(total_variance)\n",
    "#     print(\"Total variance accounted: \", total_variance, \"\\n\")\n",
    "print(\"Cumulative variance with x components\")\n",
    "graph = plt.plot(cumulative_variance_ratios)\n",
    "plt.xlabel(\"Num components\")\n",
    "plt.ylabel(\"Cumulative variance explained (%)\")"
   ]
  },
  {
   "cell_type": "code",
   "execution_count": 35,
   "metadata": {},
   "outputs": [
    {
     "data": {
      "text/plain": [
       "Text(0,0.5,'Cumulative variance explained (%)')"
      ]
     },
     "execution_count": 35,
     "metadata": {},
     "output_type": "execute_result"
    },
    {
     "data": {
      "image/png": "[encoded data removed]",
      "text/plain": [
       "<matplotlib.figure.Figure at 0x7f92372222e8>"
      ]
     },
     "metadata": {
      "needs_background": "light"
     },
     "output_type": "display_data"
    }
   ],
   "source": [
    "# Re-apply PCA to the data while selecting for number of components to retain.\n",
    "pca = PCA(n_components=100)\n",
    "X_pca = pca.fit_transform(scaled_azdias)\n",
    "num_components = 100\n",
    "total_variance = 0\n",
    "cumulative_variance_ratios = []\n",
    "for i in range(num_components):\n",
    "#     print(\"Variance accounted for component \",i,\" \", pca.explained_variance_ratio_[i])\n",
    "    total_variance += pca.explained_variance_ratio_[i]\n",
    "    cumulative_variance_ratios.append(total_variance)\n",
    "    \n",
    "#     print(\"Total variance accounted: \", total_variance, \"\\n\")\n",
    "plt.plot(cumulative_variance_ratios)\n",
    "plt.xlabel(\"Num components\")\n",
    "plt.ylabel(\"Cumulative variance explained (%)\")"
   ]
  },
  {
   "cell_type": "markdown",
   "metadata": {},
   "source": [
    "### Discussion 2.2: Perform Dimensionality Reduction\n",
    "\n",
    "(Double-click this cell and replace this text with your own text, reporting your findings and decisions regarding dimensionality reduction. How many principal components / transformed features are you retaining for the next step of the analysis?)\n",
    "\n",
    "I will use 100 principle components as that accounts for most of the variance (about 90%). This shrinks the dimensionality significantly while maintaining most of the data. Adding more components after 100 has a negligable impact as shown by the first chart."
   ]
  },
  {
   "cell_type": "markdown",
   "metadata": {},
   "source": [
    "### Step 2.3: Interpret Principal Components\n",
    "\n",
    "Now that we have our transformed principal components, it's a nice idea to check out the weight of each variable on the first few components to see if they can be interpreted in some fashion.\n",
    "\n",
    "As a reminder, each principal component is a unit vector that points in the direction of highest variance (after accounting for the variance captured by earlier principal components). The further a weight is from zero, the more the principal component is in the direction of the corresponding feature. If two features have large weights of the same sign (both positive or both negative), then increases in one tend expect to be associated with increases in the other. To contrast, features with different signs can be expected to show a negative correlation: increases in one variable should result in a decrease in the other.\n",
    "\n",
    "- To investigate the features, you should map each weight to their corresponding feature name, then sort the features according to weight. The most interesting features for each principal component, then, will be those at the beginning and end of the sorted list. Use the data dictionary document to help you understand these most prominent features, their relationships, and what a positive or negative value on the principal component might indicate.\n",
    "- You should investigate and interpret feature associations from the first three principal components in this substep. To help facilitate this, you should write a function that you can call at any time to print the sorted list of feature weights, for the *i*-th principal component. This might come in handy in the next step of the project, when you interpret the tendencies of the discovered clusters."
   ]
  },
  {
   "cell_type": "code",
   "execution_count": 36,
   "metadata": {},
   "outputs": [
    {
     "name": "stdout",
     "output_type": "stream",
     "text": [
      "                   73          56                  32          57           61\n",
      "0            0.179996    0.171784            0.170468     0.16627     0.144309\n",
      "1  LP_STATUS_GROB_1.0  PLZ8_ANTG3  HH_EINKOMMEN_SCORE  PLZ8_ANTG4  ORTSGR_KLS9\n"
     ]
    }
   ],
   "source": [
    "# Map weights for the first principal component to corresponding feature names\n",
    "# and then print the linked values, sorted by weight.\n",
    "# HINT: Try defining a function here or in a new cell that you can reuse in the\n",
    "# other cells.\n",
    "def find_feature(component,data):\n",
    "    total = pd.DataFrame(data=[component,data.columns])\n",
    "    total.sort_values(by=0,axis=1,inplace=True,ascending=False)\n",
    "    return total\n",
    "\n",
    "print(find_feature(pca.components_[0],azdias).iloc[:,0:5])"
   ]
  },
  {
   "cell_type": "code",
   "execution_count": 37,
   "metadata": {},
   "outputs": [
    {
     "name": "stdout",
     "output_type": "stream",
     "text": [
      "                    1                 5           103        20          19 \n",
      "0              0.234807          0.215051    0.197003   0.182588    0.163789\n",
      "1  ALTERSKATEGORIE_GROB  FINANZ_VORSORGER  ZABEOTYP_3  SEMIO_ERL  SEMIO_LUST\n"
     ]
    }
   ],
   "source": [
    "# Map weights for the second principal component to corresponding feature names\n",
    "# and then print the linked values, sorted by weight.\n",
    "print(find_feature(pca.components_[1],azdias).iloc[:,0:5])\n"
   ]
  },
  {
   "cell_type": "code",
   "execution_count": 38,
   "metadata": {},
   "outputs": [
    {
     "name": "stdout",
     "output_type": "stream",
     "text": [
      "           18         14         15          21                9 \n",
      "0    0.277142   0.224405    0.22099    0.207356          0.161099\n",
      "1  SEMIO_VERT  SEMIO_SOZ  SEMIO_FAM  SEMIO_KULT  GREEN_AVANTGARDE\n"
     ]
    }
   ],
   "source": [
    "# Map weights for the third principal component to corresponding feature names\n",
    "# and then print the linked values, sorted by weight.\n",
    "print(find_feature(pca.components_[2],azdias).iloc[:,0:5])\n",
    "\n"
   ]
  },
  {
   "cell_type": "markdown",
   "metadata": {},
   "source": [
    "### Discussion 2.3: Interpret Principal Components\n",
    "\n",
    "(Double-click this cell and replace this text with your own text, reporting your observations from detailed investigation of the first few principal components generated. Can we interpret positive and negative values from them in a meaningful way?)\n",
    "\n",
    "The first component: #Social status #Estimated household net income  #Number of 6-10 family house #Number of 10+ family houses in the PLZ8 region.\n",
    "The first component was primarily made up of wealth/status and population density. This seems to correlate the two.\n",
    "\n",
    "The second component: #age #financial topology #smart energy consumption # Personality typology. The second component seems to group the a certain type of personality. Maybe categorizes the younger ecofriendly generation/type of person.\n",
    "\n",
    "The third component: #gender #personality #personality #personality #personality. This compnent seems to classify a very specific type of personalty by combining all of these features. It also associates a particular gender to that personality. "
   ]
  },
  {
   "cell_type": "markdown",
   "metadata": {},
   "source": [
    "## Step 3: Clustering\n",
    "\n",
    "### Step 3.1: Apply Clustering to General Population\n",
    "\n",
    "You've assessed and cleaned the demographics data, then scaled and transformed them. Now, it's time to see how the data clusters in the principal components space. In this substep, you will apply k-means clustering to the dataset and use the average within-cluster distances from each point to their assigned cluster's centroid to decide on a number of clusters to keep.\n",
    "\n",
    "- Use sklearn's [KMeans](http://scikit-learn.org/stable/modules/generated/sklearn.cluster.KMeans.html#sklearn.cluster.KMeans) class to perform k-means clustering on the PCA-transformed data.\n",
    "- Then, compute the average difference from each point to its assigned cluster's center. **Hint**: The KMeans object's `.score()` method might be useful here, but note that in sklearn, scores tend to be defined so that larger is better. Try applying it to a small, toy dataset, or use an internet search to help your understanding.\n",
    "- Perform the above two steps for a number of different cluster counts. You can then see how the average distance decreases with an increasing number of clusters. However, each additional cluster provides a smaller net benefit. Use this fact to select a final number of clusters in which to group the data. **Warning**: because of the large size of the dataset, it can take a long time for the algorithm to resolve. The more clusters to fit, the longer the algorithm will take. You should test for cluster counts through at least 10 clusters to get the full picture, but you shouldn't need to test for a number of clusters above about 30.\n",
    "- Once you've selected a final number of clusters to use, re-fit a KMeans instance to perform the clustering operation. Make sure that you also obtain the cluster assignments for the general demographics data, since you'll be using them in the final Step 3.3."
   ]
  },
  {
   "cell_type": "code",
   "execution_count": 71,
   "metadata": {},
   "outputs": [
    {
     "name": "stdout",
     "output_type": "stream",
     "text": [
      "[[6, 99021038.585940987], [9, 96291761.851003319], [12, 93289455.182302326], [15, 91326187.968770415], [18, 89634731.181441367], [21, 87877902.694079638], [24, 86071588.333757579]]\n"
     ]
    }
   ],
   "source": [
    "from sklearn.cluster import KMeans\n",
    "# Over a number of different cluster counts...\n",
    "cluster_scores = []\n",
    "for i in range(6,25,3): \n",
    "    # run k-means clustering on the data and...\n",
    "    kmeans = KMeans(n_clusters=i)    \n",
    "    model = kmeans.fit(X_pca)\n",
    "    # compute the average within-cluster distances.\n",
    "    cluster_scores.append([i,np.abs(model.score(X_pca))])\n",
    "print(cluster_scores)"
   ]
  },
  {
   "cell_type": "code",
   "execution_count": 73,
   "metadata": {
    "scrolled": true
   },
   "outputs": [
    {
     "data": {
      "text/plain": [
       "Text(0,0.5,'Kmeans scores')"
      ]
     },
     "execution_count": 73,
     "metadata": {},
     "output_type": "execute_result"
    },
    {
     "data": {
      "image/png": "[encoded data removed]",
      "text/plain": [
       "<matplotlib.figure.Figure at 0x7fc8f467b160>"
      ]
     },
     "metadata": {
      "needs_background": "light"
     },
     "output_type": "display_data"
    }
   ],
   "source": [
    "# Investigate the change in within-cluster distance across number of clusters.\n",
    "# HINT: Use matplotlib's plot function to visualize this relationship.\n",
    "a= plt.figure()\n",
    "axes= a.add_axes([0.1,0.1,0.8,0.8])\n",
    "clusterX = []\n",
    "clusterY = []\n",
    "for i in cluster_scores:\n",
    "    clusterX.append(i[0])\n",
    "    clusterY.append(i[1])\n",
    "\n",
    "# axes.set_xlim([0,6])\n",
    "plt.scatter(x=clusterX,y=clusterY)\n",
    "plt.xlabel(\"Num clusters\")\n",
    "plt.ylabel(\"Kmeans scores\")\n",
    "# plt.set_xlim(6)\n",
    "# plt.plot(cluster_scores)"
   ]
  },
  {
   "cell_type": "code",
   "execution_count": null,
   "metadata": {},
   "outputs": [],
   "source": []
  },
  {
   "cell_type": "code",
   "execution_count": 40,
   "metadata": {},
   "outputs": [],
   "source": [
    "from sklearn.cluster import KMeans\n"
   ]
  },
  {
   "cell_type": "code",
   "execution_count": 41,
   "metadata": {},
   "outputs": [],
   "source": [
    "# Re-fit the k-means model with the selected number of clusters and obtain\n",
    "# cluster predictions for the general population demographics data.\n",
    "# Using 14 clusters\n",
    "azdias_kmeans = KMeans(n_clusters=18)    \n",
    "azdias_prediction = azdias_kmeans.fit_predict(X_pca)"
   ]
  },
  {
   "cell_type": "markdown",
   "metadata": {},
   "source": [
    "### Discussion 3.1: Apply Clustering to General Population\n",
    "\n",
    "(Double-click this cell and replace this text with your own text, reporting your findings and decisions regarding clustering. Into how many clusters have you decided to segment the population?)\n",
    "\n",
    "I have decided to use 18 clusters because beyond that, adding more clusters doesn't improve the score significantly. The chart above shows that."
   ]
  },
  {
   "cell_type": "markdown",
   "metadata": {},
   "source": [
    "### Step 3.2: Apply All Steps to the Customer Data\n",
    "\n",
    "Now that you have clusters and cluster centers for the general population, it's time to see how the customer data maps on to those clusters. Take care to not confuse this for re-fitting all of the models to the customer data. Instead, you're going to use the fits from the general population to clean, transform, and cluster the customer data. In the last step of the project, you will interpret how the general population fits apply to the customer data.\n",
    "\n",
    "- Don't forget when loading in the customers data, that it is semicolon (`;`) delimited.\n",
    "- Apply the same feature wrangling, selection, and engineering steps to the customer demographics using the `clean_data()` function you created earlier. (You can assume that the customer demographics data has similar meaning behind missing data patterns as the general demographics data.)\n",
    "- Use the sklearn objects from the general demographics data, and apply their transformations to the customers data. That is, you should not be using a `.fit()` or `.fit_transform()` method to re-fit the old objects, nor should you be creating new sklearn objects! Carry the data through the feature scaling, PCA, and clustering steps, obtaining cluster assignments for all of the data in the customer demographics data."
   ]
  },
  {
   "cell_type": "code",
   "execution_count": 48,
   "metadata": {},
   "outputs": [],
   "source": [
    "# Load in the customer demographics data.\n",
    "customers = pd.read_csv(\"Udacity_CUSTOMERS_Subset.csv\", sep=\";\")"
   ]
  },
  {
   "cell_type": "code",
   "execution_count": 49,
   "metadata": {},
   "outputs": [
    {
     "name": "stderr",
     "output_type": "stream",
     "text": [
      "/opt/conda/lib/python3.6/site-packages/ipykernel_launcher.py:26: SettingWithCopyWarning: \n",
      "A value is trying to be set on a copy of a slice from a DataFrame\n",
      "\n",
      "See the caveats in the documentation: http://pandas.pydata.org/pandas-docs/stable/indexing.html#indexing-view-versus-copy\n",
      "/opt/conda/lib/python3.6/site-packages/ipykernel_launcher.py:51: SettingWithCopyWarning: \n",
      "A value is trying to be set on a copy of a slice from a DataFrame\n",
      "\n",
      "See the caveats in the documentation: http://pandas.pydata.org/pandas-docs/stable/indexing.html#indexing-view-versus-copy\n",
      "/opt/conda/lib/python3.6/site-packages/ipykernel_launcher.py:52: SettingWithCopyWarning: \n",
      "A value is trying to be set on a copy of a slice from a DataFrame\n",
      "\n",
      "See the caveats in the documentation: http://pandas.pydata.org/pandas-docs/stable/indexing.html#indexing-view-versus-copy\n"
     ]
    }
   ],
   "source": [
    "# Apply preprocessing, feature transformation, and clustering from the general\n",
    "# demographics onto the customer data, obtaining cluster predictions for the\n",
    "# customer demographics data.\n",
    "customers = clean_data(customers)\n",
    "customers = customers.dropna(axis=0)\n",
    "\n",
    "\n",
    " \n",
    "# print(azdias.columns[azdias.columns.isin(customers.columns.append(azdias.columns))])\n",
    "for i in azdias.columns:\n",
    "    if not np.in1d(i, customers.columns):\n",
    "        print(i)\n",
    "# for i in customers.columns:\n",
    "#     if not np.in1d(i, customers.columns):\n",
    "#         print(i)\n",
    "scaled_customers = scaler.transform(customers)\n",
    "customers_pca = pca.transform(scaled_customers)\n",
    "\n"
   ]
  },
  {
   "cell_type": "code",
   "execution_count": null,
   "metadata": {},
   "outputs": [],
   "source": []
  },
  {
   "cell_type": "code",
   "execution_count": 51,
   "metadata": {},
   "outputs": [],
   "source": [
    "# customers_kmeans = KMeans(n_clusters=18)    \n",
    "customers_prediction = azdias_kmeans.predict(customers_pca)"
   ]
  },
  {
   "cell_type": "markdown",
   "metadata": {},
   "source": [
    "### Step 3.3: Compare Customer Data to Demographics Data\n",
    "\n",
    "At this point, you have clustered data based on demographics of the general population of Germany, and seen how the customer data for a mail-order sales company maps onto those demographic clusters. In this final substep, you will compare the two cluster distributions to see where the strongest customer base for the company is.\n",
    "\n",
    "Consider the proportion of persons in each cluster for the general population, and the proportions for the customers. If we think the company's customer base to be universal, then the cluster assignment proportions should be fairly similar between the two. If there are only particular segments of the population that are interested in the company's products, then we should see a mismatch from one to the other. If there is a higher proportion of persons in a cluster for the customer data compared to the general population (e.g. 5% of persons are assigned to a cluster for the general population, but 15% of the customer data is closest to that cluster's centroid) then that suggests the people in that cluster to be a target audience for the company. On the other hand, the proportion of the data in a cluster being larger in the general population than the customer data (e.g. only 2% of customers closest to a population centroid that captures 6% of the data) suggests that group of persons to be outside of the target demographics.\n",
    "\n",
    "Take a look at the following points in this step:\n",
    "\n",
    "- Compute the proportion of data points in each cluster for the general population and the customer data. Visualizations will be useful here: both for the individual dataset proportions, but also to visualize the ratios in cluster representation between groups. Seaborn's [`countplot()`](https://seaborn.pydata.org/generated/seaborn.countplot.html) or [`barplot()`](https://seaborn.pydata.org/generated/seaborn.barplot.html) function could be handy.\n",
    "  - Recall the analysis you performed in step 1.1.3 of the project, where you separated out certain data points from the dataset if they had more than a specified threshold of missing values. If you found that this group was qualitatively different from the main bulk of the data, you should treat this as an additional data cluster in this analysis. Make sure that you account for the number of data points in this subset, for both the general population and customer datasets, when making your computations!\n",
    "- Which cluster or clusters are overrepresented in the customer dataset compared to the general population? Select at least one such cluster and infer what kind of people might be represented by that cluster. Use the principal component interpretations from step 2.3 or look at additional components to help you make this inference. Alternatively, you can use the `.inverse_transform()` method of the PCA and StandardScaler objects to transform centroids back to the original data space and interpret the retrieved values directly.\n",
    "- Perform a similar investigation for the underrepresented clusters. Which cluster or clusters are underrepresented in the customer dataset compared to the general population, and what kinds of people are typified by these clusters?"
   ]
  },
  {
   "cell_type": "code",
   "execution_count": 52,
   "metadata": {
    "scrolled": true
   },
   "outputs": [
    {
     "name": "stderr",
     "output_type": "stream",
     "text": [
      "/opt/conda/lib/python3.6/site-packages/matplotlib/figure.py:418: UserWarning: matplotlib is currently using a non-GUI backend, so cannot show the figure\n",
      "  \"matplotlib is currently using a non-GUI backend, \"\n"
     ]
    },
    {
     "data": {
      "image/png": "[encoded data removed]",
      "text/plain": [
       "<matplotlib.figure.Figure at 0x7f92263d7358>"
      ]
     },
     "metadata": {
      "needs_background": "light"
     },
     "output_type": "display_data"
    }
   ],
   "source": [
    "# Compare the proportion of data in each cluster for the customer data to the\n",
    "# proportion of data in each cluster for the general population.\n",
    "# print(\"Azdias countplot:\")\n",
    "# sns.countplot(azdias_prediction)\n",
    "# print(\"Customers countplot:\")\n",
    "# sns.countplot(customers_prediction)\n",
    "\n",
    "fig, ax =plt.subplots(2,1)\n",
    "sns.countplot(azdias_prediction, ax=ax[0])\n",
    "sns.countplot(customers_prediction, ax=ax[1])\n",
    "fig.show()\n"
   ]
  },
  {
   "cell_type": "code",
   "execution_count": 63,
   "metadata": {},
   "outputs": [
    {
     "name": "stdout",
     "output_type": "stream",
     "text": [
      "              0          1\n",
      "190  decade_40s  0.0644633\n",
      "              0         1\n",
      "191  decade_50s  0.125187\n",
      "              0        1\n",
      "192  decade_60s  0.19889\n",
      "              0         1\n",
      "193  decade_70s  0.242935\n",
      "              0         1\n",
      "193  decade_70s  0.242935\n",
      "                     0        1\n",
      "32  HH_EINKOMMEN_SCORE  2.66602\n",
      "              0          1\n",
      "203  wealth_1.0  0.0031067\n",
      "              0         1\n",
      "204  wealth_2.0  0.672862\n",
      "                       0       1\n",
      "196  movement_Avantgarde  1.0199\n",
      "                  0         1\n",
      "201  life_stage_4.0  0.476215\n",
      "                  0         1\n",
      "202  life_stage_5.0  0.234851\n",
      "                   0         1\n",
      "186  SHOPPER_TYP_0.0  0.203283\n",
      "                   0         1\n",
      "187  SHOPPER_TYP_1.0  0.250901\n",
      "                   0         1\n",
      "188  SHOPPER_TYP_2.0  0.209117\n",
      "                   0       1\n",
      "189  SHOPPER_TYP_3.0  0.3367\n"
     ]
    }
   ],
   "source": [
    "# What kinds of people are part of a cluster that is overrepresented in the\n",
    "# customer data compared to the general population?\n",
    "def get_feature(component,data):\n",
    "    total = pd.DataFrame(data=[data.columns,component])\n",
    "    total = total.T\n",
    "#     df.rename({'a': 'X', 'b': 'Y'}, axis=1) \n",
    "#     features.rename(\"0\":\"Attr\", \"1\":\"Vals\"]\n",
    "    return total\n",
    "cluster_centroid = scaler.inverse_transform(pca.inverse_transform(azdias_kmeans.cluster_centers_))\n",
    "features = get_feature(cluster_centroid[15],customers)\n",
    "\n",
    "# The type of person from this cluster in the customer base was older than 50\n",
    "print(features[features[0]==\"decade_40s\"])\n",
    "print(features[features[0]==\"decade_50s\"])\n",
    "print(features[features[0]==\"decade_60s\"])\n",
    "print(features[features[0]==\"decade_70s\"])\n",
    "print(features[features[0]==\"decade_70s\"])\n",
    "\n",
    "\n",
    "# The type of person from this cluster had wealthy/prosperous families\n",
    "print(features[features[0]==\"HH_EINKOMMEN_SCORE\"])\n",
    "print(features[features[0]==\"wealth_1.0\"])\n",
    "print(features[features[0]==\"wealth_2.0\"])\n",
    "# They were mostly in the mainstream movement\n",
    "print(features[features[0]==\"movement_Avantgarde\"])\n",
    "#They were either considered \"elderly and retired\" or \"Older Families & Mature Couples\" which is 24% and 50% respectively\n",
    "print(features[features[0]==\"life_stage_4.0\"])\n",
    "print(features[features[0]==\"life_stage_5.0\"])\n",
    "\n",
    "# 45% \"demanding shopper\" and 55% stresed\n",
    "print(features[features[0]==\"SHOPPER_TYP_0.0\"])\n",
    "print(features[features[0]==\"SHOPPER_TYP_1.0\"])\n",
    "print(features[features[0]==\"SHOPPER_TYP_2.0\"])\n",
    "print(features[features[0]==\"SHOPPER_TYP_3.0\"])\n",
    "\n",
    "\n",
    "# in conclusion, a good portion of the customer base is lowincome elderly people. "
   ]
  },
  {
   "cell_type": "code",
   "execution_count": 60,
   "metadata": {
    "scrolled": true
   },
   "outputs": [
    {
     "name": "stdout",
     "output_type": "stream",
     "text": [
      "              0         1\n",
      "195  decade_90s  0.790192\n",
      "                     0        1\n",
      "32  HH_EINKOMMEN_SCORE  4.84369\n",
      "              0          1\n",
      "205  wealth_3.0  0.0228108\n",
      "              0         1\n",
      "206  wealth_4.0  0.384855\n",
      "              0        1\n",
      "207  wealth_5.0  0.14824\n",
      "                       0         1\n",
      "197  movement_Mainstream  0.903495\n",
      "                  0        1\n",
      "198  life_stage_1.0  0.23837\n",
      "                  0          1\n",
      "199  life_stage_2.0  0.0496731\n",
      "                   0         1\n",
      "186  SHOPPER_TYP_0.0  0.117029\n",
      "                   0         1\n",
      "187  SHOPPER_TYP_1.0  0.278679\n",
      "                   0         1\n",
      "188  SHOPPER_TYP_2.0  0.467977\n",
      "                   0         1\n",
      "189  SHOPPER_TYP_3.0  0.136315\n"
     ]
    }
   ],
   "source": [
    "# What kinds of people are part of a cluster that is underrepresented in the\n",
    "# customer data compared to the general population?\n",
    "cluster_centroid = scaler.inverse_transform(pca.inverse_transform(azdias_kmeans.cluster_centers_))\n",
    "features = get_feature(cluster_centroid[6],customers)\n",
    "\n",
    "# The type of person from this cluster in the customer base was much younger\n",
    "print(features[features[0]==\"decade_90s\"])\n",
    "\n",
    "# The type of person from this cluster had low income/low wealth\n",
    "print(features[features[0]==\"HH_EINKOMMEN_SCORE\"])\n",
    "print(features[features[0]==\"wealth_3.0\"])\n",
    "print(features[features[0]==\"wealth_4.0\"])\n",
    "print(features[features[0]==\"wealth_5.0\"])\n",
    "# They were mostly in the mainstream movement\n",
    "print(features[features[0]==\"movement_Mainstream\"])\n",
    "#They were either considered \"Pre-Family Couples & Singles\" \n",
    "print(features[features[0]==\"life_stage_1.0\"])\n",
    "print(features[features[0]==\"life_stage_2.0\"])\n",
    "\n",
    "# Has a fairly even shopping distrobution \n",
    "print(features[features[0]==\"SHOPPER_TYP_0.0\"])\n",
    "print(features[features[0]==\"SHOPPER_TYP_1.0\"])\n",
    "print(features[features[0]==\"SHOPPER_TYP_2.0\"])\n",
    "print(features[features[0]==\"SHOPPER_TYP_3.0\"])"
   ]
  },
  {
   "cell_type": "markdown",
   "metadata": {},
   "source": [
    "### Discussion 3.3: Compare Customer Data to Demographics Data\n",
    "\n",
    "(Double-click this cell and replace this text with your own text, reporting findings and conclusions from the clustering analysis. Can we describe segments of the population that are relatively popular with the mail-order company, or relatively unpopular with the company?)\n",
    "\n",
    "From what I can tell, the company is much more popular with elderly/ older. This is shown by the analysis above where customers (at least from one of the dominant clusters) are going to be much more likely to be \"elderly and retired\"/\"Older Families & Mature Couples\" (around 75%)than the \"Pre-Family Couples & Singles\" which were much more prominent in the underrepresented cluster. This makes sense because younger people are much more likely to shop online than elderly. The cluster from the customer base also had a much higher wealth level (67% Prosperous Households) than those in the underrepresented cluster.The customer base also had a more even distrobution of shopper type than the underrepresented portion which was 60% family-shopper/demanding shopper. The customer base cluster was much more \"Avantgarde\" than the \"Mainstream\" underrepresented cluster. "
   ]
  },
  {
   "cell_type": "markdown",
   "metadata": {},
   "source": [
    "> Congratulations on making it this far in the project! Before you finish, make sure to check through the entire notebook from top to bottom to make sure that your analysis follows a logical flow and all of your findings are documented in **Discussion** cells. Once you've checked over all of your work, you should export the notebook as an HTML document to submit for evaluation. You can do this from the menu, navigating to **File -> Download as -> HTML (.html)**. You will submit both that document and this notebook for your project submission."
   ]
  },
  {
   "cell_type": "code",
   "execution_count": null,
   "metadata": {},
   "outputs": [],
   "source": []
  },
  {
   "cell_type": "code",
   "execution_count": null,
   "metadata": {},
   "outputs": [],
   "source": []
  }
 ],
 "metadata": {
  "kernelspec": {
   "display_name": "Python 3",
   "language": "python",
   "name": "python3"
  },
  "language_info": {
   "codemirror_mode": {
    "name": "ipython",
    "version": 3
   },
   "file_extension": ".py",
   "mimetype": "text/x-python",
   "name": "python",
   "nbconvert_exporter": "python",
   "pygments_lexer": "ipython3",
   "version": "3.8.2"
  }
 },
 "nbformat": 4,
 "nbformat_minor": 2
}
